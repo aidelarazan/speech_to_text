{
 "cells": [
  {
   "cell_type": "markdown",
   "metadata": {},
   "source": [
    "# Speech to Text\n",
    "## Angelique I. Delarazan"
   ]
  },
  {
   "cell_type": "markdown",
   "metadata": {},
   "source": [
    "### Transcribes audio recordings to text and outputs it as a Word Doc file.\n",
    "\n",
    "Original code by Anthony Zhang:\n",
    "Zhang, A. (2017). Speech Recognition (Version 3.8) [Software]. Available from https://github.com/Uberi/speech_recognition#readme.\n",
    "\n",
    "Requirements:\n",
    "- Python 2.6, 2.7, or 3.3+ (required)\n",
    "- Installation of SpeechRecognition\n",
    "- Installation of Docx\n",
    "- Audio recording in .wav format (mono)"
   ]
  },
  {
   "cell_type": "markdown",
   "metadata": {},
   "source": [
    "### Import Packages"
   ]
  },
  {
   "cell_type": "code",
   "execution_count": 1,
   "metadata": {},
   "outputs": [],
   "source": [
    "# OS\n",
    "import os\n",
    "from os import path\n",
    "\n",
    "# Speech Recognition\n",
    "import speech_recognition as sr\n",
    "\n",
    "# Docx\n",
    "import docx\n",
    "from docx import Document\n",
    "from docx.shared import Inches\n",
    "\n",
    "# Read/write wav files\n",
    "import wave\n",
    "\n",
    "# with-statement context\n",
    "import contextlib"
   ]
  },
  {
   "cell_type": "markdown",
   "metadata": {},
   "source": [
    "### Set Up"
   ]
  },
  {
   "cell_type": "code",
   "execution_count": 3,
   "metadata": {},
   "outputs": [],
   "source": [
    "# Define subject or a list of subjects (or name of audio file(s))\n",
    "subject = 315\n",
    "\n",
    "# Set directory (change paths/file names accordingly)\n",
    "audio_file = path.join(path.dirname('/Users/aidelarazan/Downloads/Speech_To_Text/'), (\"%s_recall.wav\" %(subject)))\n",
    "file_name = os.path.basename(audio_file)\n",
    "name = os.path.basename(audio_file)\n",
    "\n",
    "# Use the audio file as the audio source\n",
    "r = sr.Recognizer()\n",
    "\n",
    "# Create a new word doc file\n",
    "document = Document()\n",
    "\n",
    "# Read in audio file\n",
    "wav = (\"%s_recall.wav\" %(subject))"
   ]
  },
  {
   "cell_type": "markdown",
   "metadata": {},
   "source": [
    "### Audio to Text Transcription"
   ]
  },
  {
   "cell_type": "code",
   "execution_count": 13,
   "metadata": {},
   "outputs": [
    {
     "name": "stdout",
     "output_type": "stream",
     "text": [
      "show started off with them walking towards the building it was Larry\n",
      "towards the building it was Larry Larry and the other guy we saw a homeless man on the side and one of them offered him his tuna\n",
      "I think the homeless man said that he didn't like tuna sandwich and then they walked in and then it goes to scene with his wife and her friend and then she was returning a video film called\n",
      "sour sour grapes I believe and then she she returns it her name is Cheryl or Sherry the wife\n",
      "okay Larry and his wife Sherry and the other man that was walking previously from the first scene was Jeff so the the lady lie\n",
      "and then they start talking about their dinner party in their catering and how think she canceled and then they called Larry to see who the new was their caterer really Decatur and that the way there\n",
      "cater the dinner and Lexie was in the office with Larry and Jeff and Jeff was a little upset because I'll Larry didn't congratulate him on it\n",
      "new car and they went out driving it it was a blue Chevy 57 Chevy is about to blue color and then they were driving and they stopped at\n",
      "stop sign in the stop sign it was a stop sign in the road was Randall and a commercial comes on about cars and then\n",
      "the commercial it had honky in it and then there was also a car behind their car and then Larry thought that the car behind them was honking at him so he started saying stuff behind him and then\n",
      "started going out of back and forth and then the guy behind got upset and then smashed into his car he was upset because he wasn't really the one honking but it was a commercial the APCO commercial fleas and they got off\n",
      "they looked at the damage and then Jeff was slightly upset and then they switched positions to drive Jeff was not driving and Larry in the passenger seat and then\n",
      "it goes to their dinner party Larry goes home and his wife share Cheryl\n",
      "is talking to people first ever talking to people about how they were moving from moving to Downey talking about the prices and how it was better\n",
      "and then Larry kississing where Larry meets Mike the guy from the Adam coke commercial and then they start talking about what happened with the car behind them and how they smashed into him but because he thought the car behind was honking but it was really the commercial and they start\n",
      "and then Larry Mike the guy from the Apple commercial start saying that his dad had 57 Chevy in that he knew the car really well and that he could fix it and they and from their Larry's like want to get on his\n",
      "by that way on his good side so Mike will be willing to fix just car and then Charles says that dinner is ready and then they go to the dinner table and then she says you guys can sit at any\n",
      "his want and Larry was wanted to sit at the head of the table just as Cheryl did she sat at the head at the center of the table and then but that's for Mike wanted to sit and you felt like they were kind of\n",
      "are you not argue like struggling over the seats and then in the end Mike got the one at the center of the table to see at the center of the table and then he gave some speech he said\n",
      "Grace he said some other stuff the next morning\n",
      "play Cheryl and Larry wake up and they start talking about how Mike took his seat and I said Grace and how was interesting and then Larry sees that there was\n",
      "a voicemail and it was Mike saying I feel kind of weird about something that they were something that he want to talk to him if they could he could come in and speak to him so that way they can clear things up and then he was\n",
      "a little upset because now he had to worry about it throughout the entire day and didn't know what to expect in his like why didn't just tell him over the over the over the voicemail or just saying like just call me back as opposed to\n",
      "like a vague thing that he's hasn't think about for the rest of the day and then he starts thinking about the Apple stuff apple turnovers and then start asking his wife where they were at he was the fridge\n",
      "he doesn't see them and then the wife comes over and is like oh well who took them and then maybe suggesting that the caterer took it and then Larry mentioned that he did see the caterer coming out with the plate out of the house at the plate full of food\n",
      "the wife asks why he didn't say anything and then he said he didn't know what it was and the wife tells him know the wife calls the caterer and starts arguing with her not arguing but\n",
      "start asking why did she take the food that she wasn't allowed to and why was she what made her believe that she could just take the food and then she threatened that if they don't get the food back that she would cancel their check\n",
      "kerchak and then from there she sent over Larry to the Caterers house to get the food and then she starts saying that she dropped the food off at a homeless shelter and that there was only 3 pieces of chicken left and\n",
      "so much food left and then another maybe like an assistant or worker walks and saying all I just took the food over to Jeff's house and then Larry was like oh Jeff Green is that where the food is going\n",
      "and yeah he Larry then goes over to Jeff Jeff house and seasoning the chicken and have some apple turnovers in the plate\n",
      "is apple turnovers in the plates and then they start making a few jokes and the next scene was Larry walking down the same\n",
      "from the beginning near the same building he has a food like about three trays in his hand and starts walking down he sees the same homeless man from in the beginning even asked where they do you know about the homeless shelter on\n",
      "Street I believe and he's like yeah that he goes there but they usually just serve soup and peanut butter so she Larry offers him the food that he had it in his hand the food in the three trays and then the\n",
      "homeless man takes it seems happy and then the Larry walks into the building okay I'm done\n"
     ]
    }
   ],
   "source": [
    "# Obtain duration of audio file\n",
    "with contextlib.closing(wave.open(wav,'r')) as f:\n",
    "    frames = f.getnframes()\n",
    "    rate = f.getframerate()\n",
    "    time = frames / float(rate)\n",
    "    t = str(time)\n",
    "    p = document.add_paragraph([t])\n",
    "    document.save((\"%s_recall.docx\" %(subject))) # Add duration to word doc file\n",
    "\n",
    "# Transcribing...    \n",
    "count = -20\n",
    "while count < time:\n",
    "    count += 15  # Transcribes every 15 seconds; this is the same as count = count + 1\n",
    "    r = sr.Recognizer()\n",
    "    with sr.AudioFile(audio_file) as source:\n",
    "        audio = r.record(source, offset=count, duration=15)  # read the entire audio file   \n",
    "    try:\n",
    "    # Recognize speech using Google Speech Recognition; current code uses the default Speech Recognition API key\n",
    "        # to use another API key, use `r.recognize_google(audio, key=\"GOOGLE_SPEECH_RECOGNITION_API_KEY\")`\n",
    "        # instead of `r.recognize_google(audio)` \n",
    "        transcription =  r.recognize_google(audio)\n",
    "        print(transcription) # Comment line out if do not want to see outputs\n",
    "        p = document.add_paragraph([transcription])\n",
    "        document.save((\"%s_recall.docx\" %(subject)))\n",
    "    # Errors     \n",
    "    except sr.UnknownValueError:\n",
    "        transcription = \"Google Speech Recognition could not understand audio\"\n",
    "    except sr.RequestError as e:\n",
    "        transcription = \"Could not request results from Google Speech Recognition service; {0}\".format(e)"
   ]
  },
  {
   "cell_type": "code",
   "execution_count": null,
   "metadata": {},
   "outputs": [],
   "source": []
  }
 ],
 "metadata": {
  "kernelspec": {
   "display_name": "Python 3",
   "language": "python",
   "name": "python3"
  },
  "language_info": {
   "codemirror_mode": {
    "name": "ipython",
    "version": 3
   },
   "file_extension": ".py",
   "mimetype": "text/x-python",
   "name": "python",
   "nbconvert_exporter": "python",
   "pygments_lexer": "ipython3",
   "version": "3.8.5"
  }
 },
 "nbformat": 4,
 "nbformat_minor": 4
}
