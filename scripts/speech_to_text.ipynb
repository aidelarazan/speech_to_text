{
 "cells": [
  {
   "cell_type": "markdown",
   "metadata": {},
   "source": [
    "# Speech to Text\n",
    "## Angelique I. Delarazan"
   ]
  },
  {
   "cell_type": "markdown",
   "metadata": {},
   "source": [
    "### Transcribes audio recordings to text and outputs it as a Word Doc file.\n",
    "\n",
    "Original code by Anthony Zhang:\n",
    "Zhang, A. (2017). Speech Recognition (Version 3.8) [Software]. Available from https://github.com/Uberi/speech_recognition#readme.\n",
    "\n",
    "Requirements:\n",
    "- Python 2.6, 2.7, or 3.3+ (required)\n",
    "- Installation of SpeechRecognition\n",
    "- Installation of Docx\n",
    "- Audio recording in .wav format (mono)"
   ]
  },
  {
   "cell_type": "markdown",
   "metadata": {},
   "source": [
    "### Import Packages"
   ]
  },
  {
   "cell_type": "code",
   "execution_count": 1,
   "metadata": {},
   "outputs": [],
   "source": [
    "# OS\n",
    "import os\n",
    "from os import path\n",
    "\n",
    "# Speech Recognition\n",
    "import speech_recognition as sr\n",
    "\n",
    "# Docx\n",
    "import docx\n",
    "from docx import Document\n",
    "from docx.shared import Inches\n",
    "\n",
    "# Read/write wav files\n",
    "import wave\n",
    "\n",
    "# with-statement context\n",
    "import contextlib"
   ]
  },
  {
   "cell_type": "markdown",
   "metadata": {},
   "source": [
    "### Set Up"
   ]
  },
  {
   "cell_type": "code",
   "execution_count": 3,
   "metadata": {},
   "outputs": [],
   "source": [
    "# Define subject or a list of subjects (or name of audio file(s))\n",
    "subject = 315\n",
    "\n",
    "# Set directory (change paths/file names accordingly)\n",
    "audio_file = path.join(path.dirname('/Users/aidelarazan/Downloads/Speech_To_Text/'), (\"%s_recall.wav\" %(subject)))\n",
    "file_name = os.path.basename(audio_file)\n",
    "name = os.path.basename(audio_file)\n",
    "\n",
    "# Use the audio file as the audio source\n",
    "r = sr.Recognizer()\n",
    "\n",
    "# Create a new word doc file\n",
    "document = Document()\n",
    "\n",
    "# Read in audio file\n",
    "wav = (\"%s_recall.wav\" %(subject))"
   ]
  },
  {
   "cell_type": "markdown",
   "metadata": {},
   "source": [
    "### Audio to Text Transcription"
   ]
  },
  {
   "cell_type": "code",
   "execution_count": 14,
   "metadata": {},
   "outputs": [],
   "source": [
    "# Obtain duration of audio file\n",
    "with contextlib.closing(wave.open(wav,'r')) as f:\n",
    "    frames = f.getnframes()\n",
    "    rate = f.getframerate()\n",
    "    time = frames / float(rate)\n",
    "    t = str(time)\n",
    "    p = document.add_paragraph([t])\n",
    "    document.save((\"%s_recall.docx\" %(subject))) # Add duration to word doc file; change output path accordingly\n",
    "\n",
    "# Transcribing...    \n",
    "count = -20\n",
    "while count < time:\n",
    "    count += 15  # Transcribes every 15 seconds; this is the same as count = count + 1\n",
    "    r = sr.Recognizer()\n",
    "    with sr.AudioFile(audio_file) as source:\n",
    "        audio = r.record(source, offset=count, duration=15)  # read the entire audio file   \n",
    "    try:\n",
    "    # Recognize speech using Google Speech Recognition; current code uses the default Speech Recognition API key\n",
    "        # to use another API key, use `r.recognize_google(audio, key=\"GOOGLE_SPEECH_RECOGNITION_API_KEY\")`\n",
    "        # instead of `r.recognize_google(audio)` \n",
    "        transcription =  r.recognize_google(audio)\n",
    "        #print(transcription) # Comment line out if do not want to see transcription outputs\n",
    "        p = document.add_paragraph([transcription])\n",
    "        document.save((\"%s_recall.docx\" %(subject)))\n",
    "    # Errors     \n",
    "    except sr.UnknownValueError:\n",
    "        transcription = \"Google Speech Recognition could not understand audio\"\n",
    "    except sr.RequestError as e:\n",
    "        transcription = \"Could not request results from Google Speech Recognition service; {0}\".format(e)"
   ]
  }
 ],
 "metadata": {
  "kernelspec": {
   "display_name": "Python 3",
   "language": "python",
   "name": "python3"
  },
  "language_info": {
   "codemirror_mode": {
    "name": "ipython",
    "version": 3
   },
   "file_extension": ".py",
   "mimetype": "text/x-python",
   "name": "python",
   "nbconvert_exporter": "python",
   "pygments_lexer": "ipython3",
   "version": "3.8.5"
  }
 },
 "nbformat": 4,
 "nbformat_minor": 4
}
